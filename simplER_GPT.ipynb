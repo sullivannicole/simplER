{
 "cells": [
  {
   "cell_type": "code",
   "execution_count": 1,
   "metadata": {
    "colab": {
     "base_uri": "https://localhost:8080/"
    },
    "executionInfo": {
     "elapsed": 10930,
     "status": "ok",
     "timestamp": 1677635734641,
     "user": {
      "displayName": "Nicole Sullivan",
      "userId": "18031182080523530747"
     },
     "user_tz": 360
    },
    "id": "Zw3azvbk4ZgU",
    "outputId": "960d4659-bfe2-44ce-ca58-1e543cff962a"
   },
   "outputs": [],
   "source": [
    "import numpy as np\n",
    "import pandas as pd\n",
    "import matplotlib.pyplot as plt\n",
    "import seaborn as sns"
   ]
  },
  {
   "cell_type": "code",
   "execution_count": 2,
   "metadata": {},
   "outputs": [
    {
     "data": {
      "text/html": [
       "<div>\n",
       "<style scoped>\n",
       "    .dataframe tbody tr th:only-of-type {\n",
       "        vertical-align: middle;\n",
       "    }\n",
       "\n",
       "    .dataframe tbody tr th {\n",
       "        vertical-align: top;\n",
       "    }\n",
       "\n",
       "    .dataframe thead th {\n",
       "        text-align: right;\n",
       "    }\n",
       "</style>\n",
       "<table border=\"1\" class=\"dataframe\">\n",
       "  <thead>\n",
       "    <tr style=\"text-align: right;\">\n",
       "      <th></th>\n",
       "      <th>text</th>\n",
       "    </tr>\n",
       "  </thead>\n",
       "  <tbody>\n",
       "    <tr>\n",
       "      <th>0</th>\n",
       "      <td>the shawshank redemption is without a doubt on...</td>\n",
       "    </tr>\n",
       "    <tr>\n",
       "      <th>1</th>\n",
       "      <td>the shawshank redemption is written and direct...</td>\n",
       "    </tr>\n",
       "    <tr>\n",
       "      <th>2</th>\n",
       "      <td>the godfather is one of the very few films tha...</td>\n",
       "    </tr>\n",
       "    <tr>\n",
       "      <th>3</th>\n",
       "      <td>'the godfather' is the pinnacle of flawless fi...</td>\n",
       "    </tr>\n",
       "    <tr>\n",
       "      <th>4</th>\n",
       "      <td>dark  yes  complex  ambitious. christopher nol...</td>\n",
       "    </tr>\n",
       "  </tbody>\n",
       "</table>\n",
       "</div>"
      ],
      "text/plain": [
       "                                                text\n",
       "0  the shawshank redemption is without a doubt on...\n",
       "1  the shawshank redemption is written and direct...\n",
       "2  the godfather is one of the very few films tha...\n",
       "3  'the godfather' is the pinnacle of flawless fi...\n",
       "4  dark  yes  complex  ambitious. christopher nol..."
      ]
     },
     "execution_count": 2,
     "metadata": {},
     "output_type": "execute_result"
    }
   ],
   "source": [
    "# imdb_reviews = pd.read_csv('https://raw.githubusercontent.com/naserahmadi/TDmatch/main/data/imdb/IMDB_reviews.csv', names = ['text'])\n",
    "# imdb_reviews['row_number'] = imdb_reviews.reset_index().index\n",
    "# imdb_reviews.to_csv('data/imdb_raw_reviews.csv')\n",
    "\n",
    "imdb_raw_reviews = pd.read_csv('data/imdb_raw_reviews.csv')\n",
    "imdb_raw_reviews.head()"
   ]
  },
  {
   "cell_type": "code",
   "execution_count": 3,
   "metadata": {},
   "outputs": [
    {
     "data": {
      "text/plain": [
       "(500, 1)"
      ]
     },
     "execution_count": 3,
     "metadata": {},
     "output_type": "execute_result"
    }
   ],
   "source": [
    "imdb_raw_reviews.shape"
   ]
  },
  {
   "cell_type": "code",
   "execution_count": 4,
   "metadata": {},
   "outputs": [
    {
     "data": {
      "text/html": [
       "<div>\n",
       "<style scoped>\n",
       "    .dataframe tbody tr th:only-of-type {\n",
       "        vertical-align: middle;\n",
       "    }\n",
       "\n",
       "    .dataframe tbody tr th {\n",
       "        vertical-align: top;\n",
       "    }\n",
       "\n",
       "    .dataframe thead th {\n",
       "        text-align: right;\n",
       "    }\n",
       "</style>\n",
       "<table border=\"1\" class=\"dataframe\">\n",
       "  <thead>\n",
       "    <tr style=\"text-align: right;\">\n",
       "      <th></th>\n",
       "      <th>movie</th>\n",
       "      <th>user_review_permalink</th>\n",
       "      <th>user_review</th>\n",
       "    </tr>\n",
       "  </thead>\n",
       "  <tbody>\n",
       "    <tr>\n",
       "      <th>0</th>\n",
       "      <td>The Shawshank Redemption</td>\n",
       "      <td>https://www.imdb.com/review/rw3870888/</td>\n",
       "      <td>i watch this movie for minimum 5-6 times first...</td>\n",
       "    </tr>\n",
       "    <tr>\n",
       "      <th>1</th>\n",
       "      <td>The Shawshank Redemption</td>\n",
       "      <td>https://www.imdb.com/review/rw2284594/</td>\n",
       "      <td>The Shawshank Redemption is written and direct...</td>\n",
       "    </tr>\n",
       "    <tr>\n",
       "      <th>2</th>\n",
       "      <td>The Godfather</td>\n",
       "      <td>https://www.imdb.com/review/rw3205452/</td>\n",
       "      <td>The Godfather is one of the most iconic films ...</td>\n",
       "    </tr>\n",
       "    <tr>\n",
       "      <th>3</th>\n",
       "      <td>The Godfather</td>\n",
       "      <td>https://www.imdb.com/review/rw3038370/</td>\n",
       "      <td>'The Godfather' is the pinnacle of flawless fi...</td>\n",
       "    </tr>\n",
       "    <tr>\n",
       "      <th>4</th>\n",
       "      <td>The Dark Knight</td>\n",
       "      <td>https://www.imdb.com/review/rw1917099/</td>\n",
       "      <td>Dark, yes, complex, ambitious. Christopher Nol...</td>\n",
       "    </tr>\n",
       "  </tbody>\n",
       "</table>\n",
       "</div>"
      ],
      "text/plain": [
       "                      movie                   user_review_permalink  \\\n",
       "0  The Shawshank Redemption  https://www.imdb.com/review/rw3870888/   \n",
       "1  The Shawshank Redemption  https://www.imdb.com/review/rw2284594/   \n",
       "2             The Godfather  https://www.imdb.com/review/rw3205452/   \n",
       "3             The Godfather  https://www.imdb.com/review/rw3038370/   \n",
       "4           The Dark Knight  https://www.imdb.com/review/rw1917099/   \n",
       "\n",
       "                                         user_review  \n",
       "0  i watch this movie for minimum 5-6 times first...  \n",
       "1  The Shawshank Redemption is written and direct...  \n",
       "2  The Godfather is one of the most iconic films ...  \n",
       "3  'The Godfather' is the pinnacle of flawless fi...  \n",
       "4  Dark, yes, complex, ambitious. Christopher Nol...  "
      ]
     },
     "execution_count": 4,
     "metadata": {},
     "output_type": "execute_result"
    }
   ],
   "source": [
    "imdb_reviews = pd.read_csv('data/imdb_reviews.csv')[['movie', 'user_review_permalink', 'user_review']]\n",
    "imdb_reviews.head()"
   ]
  },
  {
   "cell_type": "code",
   "execution_count": 5,
   "metadata": {},
   "outputs": [
    {
     "data": {
      "text/plain": [
       "(2000, 3)"
      ]
     },
     "execution_count": 5,
     "metadata": {},
     "output_type": "execute_result"
    }
   ],
   "source": [
    "imdb_reviews.shape"
   ]
  },
  {
   "cell_type": "markdown",
   "metadata": {},
   "source": [
    "# ChatGPT Entity Extraction Testing"
   ]
  },
  {
   "cell_type": "code",
   "execution_count": 12,
   "metadata": {},
   "outputs": [],
   "source": [
    "# https://github.com/openai/openai-python\n",
    "import yaml\n",
    "import openai\n",
    "\n",
    "with open(\"openai.yaml\", \"r\") as stream:\n",
    "    d = yaml.safe_load(stream)\n",
    "\n",
    "openai.api_key = d['openai']['api-key']"
   ]
  },
  {
   "cell_type": "code",
   "execution_count": 17,
   "metadata": {},
   "outputs": [
    {
     "name": "stdout",
     "output_type": "stream",
     "text": [
      "Help on method create in module openai.api_resources.chat_completion:\n",
      "\n",
      "create(*args, **kwargs) method of builtins.type instance\n",
      "    Creates a new chat completion for the provided messages and parameters.\n",
      "    \n",
      "    See https://platform.openai.com/docs/api-reference/chat-completions/create\n",
      "    for a list of valid parameters.\n",
      "\n"
     ]
    }
   ],
   "source": [
    "help(chatgpt.create)"
   ]
  },
  {
   "cell_type": "code",
   "execution_count": 18,
   "metadata": {},
   "outputs": [
    {
     "name": "stdout",
     "output_type": "stream",
     "text": [
      "Hello! How can I assist you today?\n"
     ]
    }
   ],
   "source": [
    "model = 'gpt-3.5-turbo'\n",
    "prompt = 'Hi'\n",
    "\n",
    "chatgpt = openai.ChatCompletion()\n",
    "\n",
    "completion = chatgpt.create(model=model, messages=[{\"role\": \"user\", \"content\": prompt}], temperature=0)\n",
    "print(completion.choices[0].message.content)"
   ]
  },
  {
   "cell_type": "markdown",
   "metadata": {},
   "source": [
    "## Extracting a specific entity from text"
   ]
  },
  {
   "cell_type": "code",
   "execution_count": 19,
   "metadata": {},
   "outputs": [],
   "source": [
    "import time\n",
    "\n",
    "# extracts one entity from text \n",
    "def get_entity(entity, text):\n",
    "    \n",
    "    # chill for a second\n",
    "    # time.sleep(1)\n",
    "    \n",
    "    wait = True\n",
    "    seconds = 1\n",
    "    retries = 1\n",
    "    \n",
    "    messages = [\n",
    "        {\"role\": \"user\", \"content\": f\"Your job is to extract the {entity} being described by the text provided.\"},\n",
    "        {\"role\": \"user\", \"content\": text},\n",
    "        {\"role\": \"user\", \"content\": f\"Respond ONLY with the {entity} ONLY {entity}\"},\n",
    "        {\"role\": \"user\", \"content\": f\"If {entity} is not found, respond ONLY with Unknown ONLY Unknown\"}\n",
    "    ]\n",
    "\n",
    "    while wait:\n",
    "        try:\n",
    "            response = chatgpt.create(model=model, messages=messages, temperature=0).choices[0].message.content\n",
    "        except:\n",
    "            time.sleep(seconds)\n",
    "            print(f'Retry #{retries}, waiting for an additional {seconds} seconds...')\n",
    "            retries += 1\n",
    "            seconds += 1\n",
    "            \n",
    "            if retries > 20:\n",
    "                return 'Unknown'\n",
    "        else:\n",
    "            return response"
   ]
  },
  {
   "cell_type": "code",
   "execution_count": 20,
   "metadata": {},
   "outputs": [],
   "source": [
    "test_review = '''i'm not an al pacino fan but this movie has the best performance of al. i think no one in the history of world cinema has played a character better than al pacino in godfather 2. he deserved an oscar.\n",
    "godfather 2 is better than the first part. it is a great sequel  it expands the themes and the world of the first part. robert de niro is stunning as usual. missed marlon brando. best part of this movie is it shows the rise of vito corleone and michael corleone contrasting their times and personalities.\n",
    "you need to watch godfather 2'''"
   ]
  },
  {
   "cell_type": "code",
   "execution_count": 22,
   "metadata": {},
   "outputs": [
    {
     "data": {
      "text/plain": [
       "'The Godfather: Part II'"
      ]
     },
     "execution_count": 22,
     "metadata": {},
     "output_type": "execute_result"
    }
   ],
   "source": [
    "entity_to_extract = \"official title of the movie\"\n",
    "get_entity(entity_to_extract, test_review)"
   ]
  },
  {
   "cell_type": "code",
   "execution_count": 23,
   "metadata": {},
   "outputs": [
    {
     "data": {
      "text/plain": [
       "'Al Pacino'"
      ]
     },
     "execution_count": 23,
     "metadata": {},
     "output_type": "execute_result"
    }
   ],
   "source": [
    "entity_to_extract = \"lead actor of the movie\"\n",
    "get_entity(entity_to_extract, test_review)"
   ]
  },
  {
   "cell_type": "code",
   "execution_count": 24,
   "metadata": {},
   "outputs": [
    {
     "data": {
      "text/plain": [
       "'Entities:\\n- Al Pacino (Person)\\n- Godfather 2 (Movie)\\n- World Cinema (Concept)\\n- Character (Concept)\\n- Oscar (Award)\\n- First Part (Movie)\\n- Sequel (Concept)\\n- Themes (Concept)\\n- Robert De Niro (Person)\\n- Marlon Brando (Person)\\n- Vito Corleone (Character)\\n- Michael Corleone (Character)\\n\\nNote: Unknown entities are not found in the text.'"
      ]
     },
     "execution_count": 24,
     "metadata": {},
     "output_type": "execute_result"
    }
   ],
   "source": [
    "entity_to_extract = \"all entities, and the type of entity\"\n",
    "get_entity(entity_to_extract, test_review)"
   ]
  },
  {
   "cell_type": "markdown",
   "metadata": {},
   "source": [
    "# IMDB Uncertain Reviews After Flair"
   ]
  },
  {
   "cell_type": "code",
   "execution_count": 192,
   "metadata": {},
   "outputs": [],
   "source": [
    "imdb_uncertain = pd.read_csv('data/imdb_uncertain_after_flair.csv')['id'].sort_values().unique().tolist()"
   ]
  },
  {
   "cell_type": "code",
   "execution_count": 193,
   "metadata": {},
   "outputs": [
    {
     "data": {
      "text/html": [
       "<div>\n",
       "<style scoped>\n",
       "    .dataframe tbody tr th:only-of-type {\n",
       "        vertical-align: middle;\n",
       "    }\n",
       "\n",
       "    .dataframe tbody tr th {\n",
       "        vertical-align: top;\n",
       "    }\n",
       "\n",
       "    .dataframe thead th {\n",
       "        text-align: right;\n",
       "    }\n",
       "</style>\n",
       "<table border=\"1\" class=\"dataframe\">\n",
       "  <thead>\n",
       "    <tr style=\"text-align: right;\">\n",
       "      <th></th>\n",
       "      <th>movie</th>\n",
       "      <th>user_review_permalink</th>\n",
       "      <th>user_review</th>\n",
       "    </tr>\n",
       "  </thead>\n",
       "  <tbody>\n",
       "    <tr>\n",
       "      <th>0</th>\n",
       "      <td>The Shawshank Redemption</td>\n",
       "      <td>https://www.imdb.com/review/rw3870888/</td>\n",
       "      <td>i watch this movie for minimum 5-6 times first...</td>\n",
       "    </tr>\n",
       "    <tr>\n",
       "      <th>1</th>\n",
       "      <td>The Dark Knight</td>\n",
       "      <td>https://www.imdb.com/review/rw1917099/</td>\n",
       "      <td>Dark, yes, complex, ambitious. Christopher Nol...</td>\n",
       "    </tr>\n",
       "    <tr>\n",
       "      <th>2</th>\n",
       "      <td>The Dark Knight</td>\n",
       "      <td>https://www.imdb.com/review/rw5478826/</td>\n",
       "      <td>Confidently directed, dark, brooding, and pack...</td>\n",
       "    </tr>\n",
       "    <tr>\n",
       "      <th>3</th>\n",
       "      <td>The Godfather: Part II</td>\n",
       "      <td>https://www.imdb.com/review/rw0135607/</td>\n",
       "      <td>Coppola's masterpiece is rivaled only by \"The ...</td>\n",
       "    </tr>\n",
       "    <tr>\n",
       "      <th>4</th>\n",
       "      <td>12 Angry Men</td>\n",
       "      <td>https://www.imdb.com/review/rw0059999/</td>\n",
       "      <td>An excellent courtroom drama with a unique twi...</td>\n",
       "    </tr>\n",
       "  </tbody>\n",
       "</table>\n",
       "</div>"
      ],
      "text/plain": [
       "                      movie                   user_review_permalink  \\\n",
       "0  The Shawshank Redemption  https://www.imdb.com/review/rw3870888/   \n",
       "1           The Dark Knight  https://www.imdb.com/review/rw1917099/   \n",
       "2           The Dark Knight  https://www.imdb.com/review/rw5478826/   \n",
       "3    The Godfather: Part II  https://www.imdb.com/review/rw0135607/   \n",
       "4              12 Angry Men  https://www.imdb.com/review/rw0059999/   \n",
       "\n",
       "                                         user_review  \n",
       "0  i watch this movie for minimum 5-6 times first...  \n",
       "1  Dark, yes, complex, ambitious. Christopher Nol...  \n",
       "2  Confidently directed, dark, brooding, and pack...  \n",
       "3  Coppola's masterpiece is rivaled only by \"The ...  \n",
       "4  An excellent courtroom drama with a unique twi...  "
      ]
     },
     "execution_count": 193,
     "metadata": {},
     "output_type": "execute_result"
    }
   ],
   "source": [
    "# filter imdb_reviews based on ids in the imdb_uncertain dataframe\n",
    "ids_filter = imdb_reviews.index.isin(imdb_uncertain)\n",
    "imdb_reviews_uncertain = imdb_reviews.copy()[ids_filter].reset_index(drop=True)\n",
    "imdb_reviews_uncertain.head()"
   ]
  },
  {
   "cell_type": "markdown",
   "metadata": {},
   "source": [
    "## Test on first 5 columns"
   ]
  },
  {
   "cell_type": "code",
   "execution_count": 182,
   "metadata": {},
   "outputs": [],
   "source": [
    "test = imdb_reviews.copy().head()"
   ]
  },
  {
   "cell_type": "code",
   "execution_count": 183,
   "metadata": {},
   "outputs": [
    {
     "data": {
      "text/html": [
       "<div>\n",
       "<style scoped>\n",
       "    .dataframe tbody tr th:only-of-type {\n",
       "        vertical-align: middle;\n",
       "    }\n",
       "\n",
       "    .dataframe tbody tr th {\n",
       "        vertical-align: top;\n",
       "    }\n",
       "\n",
       "    .dataframe thead th {\n",
       "        text-align: right;\n",
       "    }\n",
       "</style>\n",
       "<table border=\"1\" class=\"dataframe\">\n",
       "  <thead>\n",
       "    <tr style=\"text-align: right;\">\n",
       "      <th></th>\n",
       "      <th>movie</th>\n",
       "      <th>user_review_permalink</th>\n",
       "      <th>user_review</th>\n",
       "    </tr>\n",
       "  </thead>\n",
       "  <tbody>\n",
       "    <tr>\n",
       "      <th>0</th>\n",
       "      <td>The Shawshank Redemption</td>\n",
       "      <td>https://www.imdb.com/review/rw3870888/</td>\n",
       "      <td>i watch this movie for minimum 5-6 times first...</td>\n",
       "    </tr>\n",
       "    <tr>\n",
       "      <th>1</th>\n",
       "      <td>The Shawshank Redemption</td>\n",
       "      <td>https://www.imdb.com/review/rw2284594/</td>\n",
       "      <td>The Shawshank Redemption is written and direct...</td>\n",
       "    </tr>\n",
       "    <tr>\n",
       "      <th>2</th>\n",
       "      <td>The Godfather</td>\n",
       "      <td>https://www.imdb.com/review/rw3205452/</td>\n",
       "      <td>The Godfather is one of the most iconic films ...</td>\n",
       "    </tr>\n",
       "    <tr>\n",
       "      <th>3</th>\n",
       "      <td>The Godfather</td>\n",
       "      <td>https://www.imdb.com/review/rw3038370/</td>\n",
       "      <td>'The Godfather' is the pinnacle of flawless fi...</td>\n",
       "    </tr>\n",
       "    <tr>\n",
       "      <th>4</th>\n",
       "      <td>The Dark Knight</td>\n",
       "      <td>https://www.imdb.com/review/rw1917099/</td>\n",
       "      <td>Dark, yes, complex, ambitious. Christopher Nol...</td>\n",
       "    </tr>\n",
       "  </tbody>\n",
       "</table>\n",
       "</div>"
      ],
      "text/plain": [
       "                      movie                   user_review_permalink  \\\n",
       "0  The Shawshank Redemption  https://www.imdb.com/review/rw3870888/   \n",
       "1  The Shawshank Redemption  https://www.imdb.com/review/rw2284594/   \n",
       "2             The Godfather  https://www.imdb.com/review/rw3205452/   \n",
       "3             The Godfather  https://www.imdb.com/review/rw3038370/   \n",
       "4           The Dark Knight  https://www.imdb.com/review/rw1917099/   \n",
       "\n",
       "                                         user_review  \n",
       "0  i watch this movie for minimum 5-6 times first...  \n",
       "1  The Shawshank Redemption is written and direct...  \n",
       "2  The Godfather is one of the most iconic films ...  \n",
       "3  'The Godfather' is the pinnacle of flawless fi...  \n",
       "4  Dark, yes, complex, ambitious. Christopher Nol...  "
      ]
     },
     "execution_count": 183,
     "metadata": {},
     "output_type": "execute_result"
    }
   ],
   "source": [
    "test"
   ]
  },
  {
   "cell_type": "code",
   "execution_count": 184,
   "metadata": {},
   "outputs": [],
   "source": [
    "total = len(test)-1\n",
    "\n",
    "def get_entity_wrapper(row):\n",
    "    print(f'Running row {row.name} / {total}')\n",
    "    return get_entity(\"official title of the movie\", row['user_review'])"
   ]
  },
  {
   "cell_type": "code",
   "execution_count": 185,
   "metadata": {},
   "outputs": [
    {
     "data": {
      "text/plain": [
       "4"
      ]
     },
     "execution_count": 185,
     "metadata": {},
     "output_type": "execute_result"
    }
   ],
   "source": [
    "total"
   ]
  },
  {
   "cell_type": "code",
   "execution_count": 186,
   "metadata": {},
   "outputs": [
    {
     "name": "stdout",
     "output_type": "stream",
     "text": [
      "Running row 0 / 4\n",
      "Running row 1 / 4\n",
      "Running row 2 / 4\n",
      "Running row 3 / 4\n",
      "Running row 4 / 4\n"
     ]
    }
   ],
   "source": [
    "test['gpt_movie_title'] = test.apply(lambda row: get_entity_wrapper(row), axis=1)"
   ]
  },
  {
   "cell_type": "code",
   "execution_count": 187,
   "metadata": {},
   "outputs": [
    {
     "data": {
      "text/html": [
       "<div>\n",
       "<style scoped>\n",
       "    .dataframe tbody tr th:only-of-type {\n",
       "        vertical-align: middle;\n",
       "    }\n",
       "\n",
       "    .dataframe tbody tr th {\n",
       "        vertical-align: top;\n",
       "    }\n",
       "\n",
       "    .dataframe thead th {\n",
       "        text-align: right;\n",
       "    }\n",
       "</style>\n",
       "<table border=\"1\" class=\"dataframe\">\n",
       "  <thead>\n",
       "    <tr style=\"text-align: right;\">\n",
       "      <th></th>\n",
       "      <th>movie</th>\n",
       "      <th>user_review_permalink</th>\n",
       "      <th>user_review</th>\n",
       "      <th>gpt_movie_title</th>\n",
       "    </tr>\n",
       "  </thead>\n",
       "  <tbody>\n",
       "    <tr>\n",
       "      <th>0</th>\n",
       "      <td>The Shawshank Redemption</td>\n",
       "      <td>https://www.imdb.com/review/rw3870888/</td>\n",
       "      <td>i watch this movie for minimum 5-6 times first...</td>\n",
       "      <td>Unknown.</td>\n",
       "    </tr>\n",
       "    <tr>\n",
       "      <th>1</th>\n",
       "      <td>The Shawshank Redemption</td>\n",
       "      <td>https://www.imdb.com/review/rw2284594/</td>\n",
       "      <td>The Shawshank Redemption is written and direct...</td>\n",
       "      <td>The Shawshank Redemption</td>\n",
       "    </tr>\n",
       "    <tr>\n",
       "      <th>2</th>\n",
       "      <td>The Godfather</td>\n",
       "      <td>https://www.imdb.com/review/rw3205452/</td>\n",
       "      <td>The Godfather is one of the most iconic films ...</td>\n",
       "      <td>The Godfather.</td>\n",
       "    </tr>\n",
       "    <tr>\n",
       "      <th>3</th>\n",
       "      <td>The Godfather</td>\n",
       "      <td>https://www.imdb.com/review/rw3038370/</td>\n",
       "      <td>'The Godfather' is the pinnacle of flawless fi...</td>\n",
       "      <td>The Godfather.</td>\n",
       "    </tr>\n",
       "    <tr>\n",
       "      <th>4</th>\n",
       "      <td>The Dark Knight</td>\n",
       "      <td>https://www.imdb.com/review/rw1917099/</td>\n",
       "      <td>Dark, yes, complex, ambitious. Christopher Nol...</td>\n",
       "      <td>The Dark Knight.</td>\n",
       "    </tr>\n",
       "  </tbody>\n",
       "</table>\n",
       "</div>"
      ],
      "text/plain": [
       "                      movie                   user_review_permalink  \\\n",
       "0  The Shawshank Redemption  https://www.imdb.com/review/rw3870888/   \n",
       "1  The Shawshank Redemption  https://www.imdb.com/review/rw2284594/   \n",
       "2             The Godfather  https://www.imdb.com/review/rw3205452/   \n",
       "3             The Godfather  https://www.imdb.com/review/rw3038370/   \n",
       "4           The Dark Knight  https://www.imdb.com/review/rw1917099/   \n",
       "\n",
       "                                         user_review           gpt_movie_title  \n",
       "0  i watch this movie for minimum 5-6 times first...                  Unknown.  \n",
       "1  The Shawshank Redemption is written and direct...  The Shawshank Redemption  \n",
       "2  The Godfather is one of the most iconic films ...            The Godfather.  \n",
       "3  'The Godfather' is the pinnacle of flawless fi...            The Godfather.  \n",
       "4  Dark, yes, complex, ambitious. Christopher Nol...          The Dark Knight.  "
      ]
     },
     "execution_count": 187,
     "metadata": {},
     "output_type": "execute_result"
    }
   ],
   "source": [
    "test"
   ]
  },
  {
   "cell_type": "markdown",
   "metadata": {
    "jp-MarkdownHeadingCollapsed": true,
    "tags": []
   },
   "source": [
    "## Run on entire imdb dataframe"
   ]
  },
  {
   "cell_type": "code",
   "execution_count": 194,
   "metadata": {},
   "outputs": [],
   "source": [
    "total = len(imdb_reviews_uncertain)-1\n",
    "\n",
    "def get_entity_wrapper(row):\n",
    "    print(f'Running row {row.name} / {total}')\n",
    "    return get_entity(\"official title of the movie\", row['user_review'])"
   ]
  },
  {
   "cell_type": "code",
   "execution_count": 195,
   "metadata": {},
   "outputs": [
    {
     "data": {
      "text/plain": [
       "1381"
      ]
     },
     "execution_count": 195,
     "metadata": {},
     "output_type": "execute_result"
    }
   ],
   "source": [
    "total"
   ]
  },
  {
   "cell_type": "code",
   "execution_count": null,
   "metadata": {},
   "outputs": [],
   "source": [
    "imdb_reviews_uncertain['gpt_movie_title'] = imdb_reviews_uncertain.apply(lambda row: get_entity_wrapper(row), axis=1)"
   ]
  },
  {
   "cell_type": "code",
   "execution_count": 199,
   "metadata": {},
   "outputs": [],
   "source": [
    "imdb_reviews_uncertain.to_csv('data/imdb_after_gpt.csv')"
   ]
  },
  {
   "cell_type": "markdown",
   "metadata": {},
   "source": [
    "## GPT Post Processing"
   ]
  },
  {
   "cell_type": "code",
   "execution_count": 214,
   "metadata": {},
   "outputs": [],
   "source": [
    "imdb_reviews_uncertain = pd.read_csv('data/imdb_after_gpt.csv').iloc[:, 1:]"
   ]
  },
  {
   "cell_type": "code",
   "execution_count": 215,
   "metadata": {},
   "outputs": [
    {
     "data": {
      "text/html": [
       "<div>\n",
       "<style scoped>\n",
       "    .dataframe tbody tr th:only-of-type {\n",
       "        vertical-align: middle;\n",
       "    }\n",
       "\n",
       "    .dataframe tbody tr th {\n",
       "        vertical-align: top;\n",
       "    }\n",
       "\n",
       "    .dataframe thead th {\n",
       "        text-align: right;\n",
       "    }\n",
       "</style>\n",
       "<table border=\"1\" class=\"dataframe\">\n",
       "  <thead>\n",
       "    <tr style=\"text-align: right;\">\n",
       "      <th></th>\n",
       "      <th>movie</th>\n",
       "      <th>user_review_permalink</th>\n",
       "      <th>user_review</th>\n",
       "      <th>gpt_movie_title</th>\n",
       "    </tr>\n",
       "  </thead>\n",
       "  <tbody>\n",
       "    <tr>\n",
       "      <th>0</th>\n",
       "      <td>The Shawshank Redemption</td>\n",
       "      <td>https://www.imdb.com/review/rw3870888/</td>\n",
       "      <td>i watch this movie for minimum 5-6 times first...</td>\n",
       "      <td>Unknown.</td>\n",
       "    </tr>\n",
       "    <tr>\n",
       "      <th>1</th>\n",
       "      <td>The Dark Knight</td>\n",
       "      <td>https://www.imdb.com/review/rw1917099/</td>\n",
       "      <td>Dark, yes, complex, ambitious. Christopher Nol...</td>\n",
       "      <td>The Dark Knight</td>\n",
       "    </tr>\n",
       "    <tr>\n",
       "      <th>2</th>\n",
       "      <td>The Dark Knight</td>\n",
       "      <td>https://www.imdb.com/review/rw5478826/</td>\n",
       "      <td>Confidently directed, dark, brooding, and pack...</td>\n",
       "      <td>The Dark Knight</td>\n",
       "    </tr>\n",
       "    <tr>\n",
       "      <th>3</th>\n",
       "      <td>The Godfather: Part II</td>\n",
       "      <td>https://www.imdb.com/review/rw0135607/</td>\n",
       "      <td>Coppola's masterpiece is rivaled only by \"The ...</td>\n",
       "      <td>The Godfather, Part II.</td>\n",
       "    </tr>\n",
       "    <tr>\n",
       "      <th>4</th>\n",
       "      <td>12 Angry Men</td>\n",
       "      <td>https://www.imdb.com/review/rw0059999/</td>\n",
       "      <td>An excellent courtroom drama with a unique twi...</td>\n",
       "      <td>12 Angry Men</td>\n",
       "    </tr>\n",
       "  </tbody>\n",
       "</table>\n",
       "</div>"
      ],
      "text/plain": [
       "                      movie                   user_review_permalink  \\\n",
       "0  The Shawshank Redemption  https://www.imdb.com/review/rw3870888/   \n",
       "1           The Dark Knight  https://www.imdb.com/review/rw1917099/   \n",
       "2           The Dark Knight  https://www.imdb.com/review/rw5478826/   \n",
       "3    The Godfather: Part II  https://www.imdb.com/review/rw0135607/   \n",
       "4              12 Angry Men  https://www.imdb.com/review/rw0059999/   \n",
       "\n",
       "                                         user_review          gpt_movie_title  \n",
       "0  i watch this movie for minimum 5-6 times first...                 Unknown.  \n",
       "1  Dark, yes, complex, ambitious. Christopher Nol...          The Dark Knight  \n",
       "2  Confidently directed, dark, brooding, and pack...          The Dark Knight  \n",
       "3  Coppola's masterpiece is rivaled only by \"The ...  The Godfather, Part II.  \n",
       "4  An excellent courtroom drama with a unique twi...             12 Angry Men  "
      ]
     },
     "execution_count": 215,
     "metadata": {},
     "output_type": "execute_result"
    }
   ],
   "source": [
    "imdb_reviews_uncertain.head()"
   ]
  },
  {
   "cell_type": "code",
   "execution_count": 216,
   "metadata": {},
   "outputs": [],
   "source": [
    "def remove_ending_period(string):\n",
    "    if string[-1] == '.':\n",
    "        return string[:-1]\n",
    "    else:\n",
    "        return string"
   ]
  },
  {
   "cell_type": "code",
   "execution_count": 217,
   "metadata": {},
   "outputs": [],
   "source": [
    "imdb_reviews_uncertain['gpt_movie_title'] = imdb_reviews_uncertain['gpt_movie_title'].apply(remove_ending_period)\n",
    "imdb_reviews_uncertain['gpt_movie_title'] = imdb_reviews_uncertain['gpt_movie_title'].replace('Unknown', 'N/A')"
   ]
  },
  {
   "cell_type": "code",
   "execution_count": 234,
   "metadata": {},
   "outputs": [
    {
     "data": {
      "text/html": [
       "<div>\n",
       "<style scoped>\n",
       "    .dataframe tbody tr th:only-of-type {\n",
       "        vertical-align: middle;\n",
       "    }\n",
       "\n",
       "    .dataframe tbody tr th {\n",
       "        vertical-align: top;\n",
       "    }\n",
       "\n",
       "    .dataframe thead th {\n",
       "        text-align: right;\n",
       "    }\n",
       "</style>\n",
       "<table border=\"1\" class=\"dataframe\">\n",
       "  <thead>\n",
       "    <tr style=\"text-align: right;\">\n",
       "      <th></th>\n",
       "      <th>user_review</th>\n",
       "      <th>gpt_movie_title</th>\n",
       "    </tr>\n",
       "  </thead>\n",
       "  <tbody>\n",
       "    <tr>\n",
       "      <th>1</th>\n",
       "      <td>Dark, yes, complex, ambitious. Christopher Nol...</td>\n",
       "      <td>The Dark Knight</td>\n",
       "    </tr>\n",
       "    <tr>\n",
       "      <th>2</th>\n",
       "      <td>Confidently directed, dark, brooding, and pack...</td>\n",
       "      <td>The Dark Knight</td>\n",
       "    </tr>\n",
       "    <tr>\n",
       "      <th>3</th>\n",
       "      <td>Coppola's masterpiece is rivaled only by \"The ...</td>\n",
       "      <td>The Godfather, Part II</td>\n",
       "    </tr>\n",
       "    <tr>\n",
       "      <th>4</th>\n",
       "      <td>An excellent courtroom drama with a unique twi...</td>\n",
       "      <td>12 Angry Men</td>\n",
       "    </tr>\n",
       "    <tr>\n",
       "      <th>5</th>\n",
       "      <td>I've just re-watched The Lord of the Rings tri...</td>\n",
       "      <td>The Lord of the Rings: The Return of the King</td>\n",
       "    </tr>\n",
       "    <tr>\n",
       "      <th>6</th>\n",
       "      <td>This Movie was sensational. It was a piece of ...</td>\n",
       "      <td>Schindler's List</td>\n",
       "    </tr>\n",
       "    <tr>\n",
       "      <th>7</th>\n",
       "      <td>Is it just me, or was this unintelligible? Not...</td>\n",
       "      <td>Inception</td>\n",
       "    </tr>\n",
       "    <tr>\n",
       "      <th>8</th>\n",
       "      <td>Fight Club is one of those movies that hits th...</td>\n",
       "      <td>Fight Club</td>\n",
       "    </tr>\n",
       "    <tr>\n",
       "      <th>9</th>\n",
       "      <td>Simply incredible. Never before have I seen a ...</td>\n",
       "      <td>The Lord of the Rings: The Fellowship of the Ring</td>\n",
       "    </tr>\n",
       "    <tr>\n",
       "      <th>10</th>\n",
       "      <td>Simply incredible. Never before have I seen a ...</td>\n",
       "      <td>The Lord of the Rings: The Fellowship of the Ring</td>\n",
       "    </tr>\n",
       "    <tr>\n",
       "      <th>11</th>\n",
       "      <td>I remember John Byner, the stand-up comic and ...</td>\n",
       "      <td>Forrest Gump</td>\n",
       "    </tr>\n",
       "    <tr>\n",
       "      <th>13</th>\n",
       "      <td>Ok- first, as mentioned in another review, the...</td>\n",
       "      <td>The Good, the Bad and the Ugly</td>\n",
       "    </tr>\n",
       "    <tr>\n",
       "      <th>14</th>\n",
       "      <td>The Fellowship of the Ring was a monumentally ...</td>\n",
       "      <td>The Two Towers</td>\n",
       "    </tr>\n",
       "    <tr>\n",
       "      <th>15</th>\n",
       "      <td>Who is to say what is real or not? We are defi...</td>\n",
       "      <td>The Matrix</td>\n",
       "    </tr>\n",
       "    <tr>\n",
       "      <th>16</th>\n",
       "      <td>Needs to be seen to be believed; in one word: ...</td>\n",
       "      <td>Goodfellas</td>\n",
       "    </tr>\n",
       "  </tbody>\n",
       "</table>\n",
       "</div>"
      ],
      "text/plain": [
       "                                          user_review  \\\n",
       "1   Dark, yes, complex, ambitious. Christopher Nol...   \n",
       "2   Confidently directed, dark, brooding, and pack...   \n",
       "3   Coppola's masterpiece is rivaled only by \"The ...   \n",
       "4   An excellent courtroom drama with a unique twi...   \n",
       "5   I've just re-watched The Lord of the Rings tri...   \n",
       "6   This Movie was sensational. It was a piece of ...   \n",
       "7   Is it just me, or was this unintelligible? Not...   \n",
       "8   Fight Club is one of those movies that hits th...   \n",
       "9   Simply incredible. Never before have I seen a ...   \n",
       "10  Simply incredible. Never before have I seen a ...   \n",
       "11  I remember John Byner, the stand-up comic and ...   \n",
       "13  Ok- first, as mentioned in another review, the...   \n",
       "14  The Fellowship of the Ring was a monumentally ...   \n",
       "15  Who is to say what is real or not? We are defi...   \n",
       "16  Needs to be seen to be believed; in one word: ...   \n",
       "\n",
       "                                      gpt_movie_title  \n",
       "1                                     The Dark Knight  \n",
       "2                                     The Dark Knight  \n",
       "3                              The Godfather, Part II  \n",
       "4                                        12 Angry Men  \n",
       "5       The Lord of the Rings: The Return of the King  \n",
       "6                                    Schindler's List  \n",
       "7                                           Inception  \n",
       "8                                          Fight Club  \n",
       "9   The Lord of the Rings: The Fellowship of the Ring  \n",
       "10  The Lord of the Rings: The Fellowship of the Ring  \n",
       "11                                       Forrest Gump  \n",
       "13                     The Good, the Bad and the Ugly  \n",
       "14                                     The Two Towers  \n",
       "15                                         The Matrix  \n",
       "16                                         Goodfellas  "
      ]
     },
     "execution_count": 234,
     "metadata": {},
     "output_type": "execute_result"
    }
   ],
   "source": [
    "filt = imdb_reviews_uncertain['gpt_movie_title'].notna()\n",
    "imdb_reviews_uncertain[filt][['user_review', 'gpt_movie_title']].head(15)"
   ]
  },
  {
   "cell_type": "code",
   "execution_count": 219,
   "metadata": {},
   "outputs": [],
   "source": [
    "imdb_reviews_uncertain.to_csv('data/imdb_after_gpt.csv')"
   ]
  },
  {
   "cell_type": "code",
   "execution_count": 220,
   "metadata": {},
   "outputs": [],
   "source": [
    "imdb_reviews_uncertain = pd.read_csv('data/imdb_after_gpt.csv').iloc[:, 1:]"
   ]
  },
  {
   "cell_type": "markdown",
   "metadata": {},
   "source": [
    "# GPT Movie Title Analysis"
   ]
  },
  {
   "cell_type": "code",
   "execution_count": 227,
   "metadata": {},
   "outputs": [
    {
     "data": {
      "text/plain": [
       "0.53"
      ]
     },
     "execution_count": 227,
     "metadata": {},
     "output_type": "execute_result"
    }
   ],
   "source": [
    "round(np.sum(imdb_reviews_uncertain['movie'] == imdb_reviews_uncertain['gpt_movie_title'])/len(imdb_reviews_uncertain), 2)"
   ]
  },
  {
   "cell_type": "markdown",
   "metadata": {},
   "source": [
    "### There are a lot of instances where gpt got it correct, but the punctuation or capitaliztion is slightly off - needs additional processing to evaluate"
   ]
  },
  {
   "cell_type": "markdown",
   "metadata": {},
   "source": [
    "# COVID Dataset"
   ]
  },
  {
   "cell_type": "code",
   "execution_count": 47,
   "metadata": {},
   "outputs": [],
   "source": [
    "covid_df = pd.read_csv('data/covid_raw_user_sentences_w_ids.csv').iloc[:, 1:]"
   ]
  },
  {
   "cell_type": "code",
   "execution_count": 48,
   "metadata": {},
   "outputs": [
    {
     "data": {
      "text/plain": [
       "(50, 6)"
      ]
     },
     "execution_count": 48,
     "metadata": {},
     "output_type": "execute_result"
    }
   ],
   "source": [
    "covid_df.shape"
   ]
  },
  {
   "cell_type": "code",
   "execution_count": 49,
   "metadata": {},
   "outputs": [
    {
     "data": {
      "text/html": [
       "<div>\n",
       "<style scoped>\n",
       "    .dataframe tbody tr th:only-of-type {\n",
       "        vertical-align: middle;\n",
       "    }\n",
       "\n",
       "    .dataframe tbody tr th {\n",
       "        vertical-align: top;\n",
       "    }\n",
       "\n",
       "    .dataframe thead th {\n",
       "        text-align: right;\n",
       "    }\n",
       "</style>\n",
       "<table border=\"1\" class=\"dataframe\">\n",
       "  <thead>\n",
       "    <tr style=\"text-align: right;\">\n",
       "      <th></th>\n",
       "      <th>id</th>\n",
       "      <th>sentence</th>\n",
       "      <th>country_1</th>\n",
       "      <th>country_2</th>\n",
       "      <th>count_type1</th>\n",
       "      <th>count_type2</th>\n",
       "    </tr>\n",
       "  </thead>\n",
       "  <tbody>\n",
       "    <tr>\n",
       "      <th>0</th>\n",
       "      <td>0</td>\n",
       "      <td>united states has 3 times the cases of canada</td>\n",
       "      <td>united states</td>\n",
       "      <td>canada</td>\n",
       "      <td>total confirmed</td>\n",
       "      <td>total confirmed</td>\n",
       "    </tr>\n",
       "    <tr>\n",
       "      <th>1</th>\n",
       "      <td>1</td>\n",
       "      <td>the number of cases in france is higher than i...</td>\n",
       "      <td>france</td>\n",
       "      <td>germany</td>\n",
       "      <td>total confirmed</td>\n",
       "      <td>total confirmed</td>\n",
       "    </tr>\n",
       "    <tr>\n",
       "      <th>2</th>\n",
       "      <td>2</td>\n",
       "      <td>the total death in russia is below 10000.</td>\n",
       "      <td>russia</td>\n",
       "      <td>NaN</td>\n",
       "      <td>total deaths</td>\n",
       "      <td>NaN</td>\n",
       "    </tr>\n",
       "    <tr>\n",
       "      <th>3</th>\n",
       "      <td>3</td>\n",
       "      <td>france has the most confirmed cases in europe.</td>\n",
       "      <td>france</td>\n",
       "      <td>NaN</td>\n",
       "      <td>total confirmed</td>\n",
       "      <td>NaN</td>\n",
       "    </tr>\n",
       "    <tr>\n",
       "      <th>4</th>\n",
       "      <td>4</td>\n",
       "      <td>china and japan have a total of over 5 million...</td>\n",
       "      <td>china</td>\n",
       "      <td>japan</td>\n",
       "      <td>total confirmed</td>\n",
       "      <td>total confirmed</td>\n",
       "    </tr>\n",
       "  </tbody>\n",
       "</table>\n",
       "</div>"
      ],
      "text/plain": [
       "   id                                           sentence      country_1  \\\n",
       "0   0      united states has 3 times the cases of canada  united states   \n",
       "1   1  the number of cases in france is higher than i...         france   \n",
       "2   2          the total death in russia is below 10000.         russia   \n",
       "3   3    france has the most confirmed cases in europe.          france   \n",
       "4   4  china and japan have a total of over 5 million...          china   \n",
       "\n",
       "  country_2      count_type1      count_type2  \n",
       "0    canada  total confirmed  total confirmed  \n",
       "1   germany  total confirmed  total confirmed  \n",
       "2       NaN     total deaths              NaN  \n",
       "3       NaN  total confirmed              NaN  \n",
       "4     japan  total confirmed  total confirmed  "
      ]
     },
     "execution_count": 49,
     "metadata": {},
     "output_type": "execute_result"
    }
   ],
   "source": [
    "covid_df.head()"
   ]
  },
  {
   "cell_type": "code",
   "execution_count": 50,
   "metadata": {},
   "outputs": [],
   "source": [
    "categories = ['total deaths',\n",
    "              'new deaths',\n",
    "              'total recovered',\n",
    "              'new recovered',\n",
    "              'total convirmed',\n",
    "              'new confirmed']"
   ]
  },
  {
   "cell_type": "code",
   "execution_count": 51,
   "metadata": {},
   "outputs": [],
   "source": [
    "# extracts one category from a list of categories that the text describes\n",
    "def get_category(categories, text):\n",
    "    \n",
    "    # chill for a second\n",
    "    # time.sleep(1)\n",
    "    \n",
    "    wait = True\n",
    "    seconds = 1\n",
    "    retries = 1\n",
    "    \n",
    "    messages = [\n",
    "        {\"role\": \"user\", \"content\": f\"Your job is to extract the category being described by the text provided.\"},\n",
    "        {\"role\": \"user\", \"content\": f\"You can only choose from the following categories: {categories}\"},\n",
    "        {\"role\": \"user\", \"content\": text},\n",
    "        {\"role\": \"user\", \"content\": f\"Respond ONLY with the category ONLY category\"},\n",
    "        {\"role\": \"user\", \"content\": f\"If a category is not found, respond ONLY with Unknown ONLY Unknown\"}\n",
    "    ]\n",
    "\n",
    "    while wait:\n",
    "        try:\n",
    "            response = chatgpt.create(model=model, messages=messages, temperature=0).choices[0].message.content\n",
    "        except:\n",
    "            time.sleep(seconds)\n",
    "            print(f'Retry #{retries}, waiting for an additional {seconds} seconds...')\n",
    "            retries += 1\n",
    "            seconds += 1\n",
    "            \n",
    "            if retries > 20:\n",
    "                return 'Unknown'\n",
    "        else:\n",
    "            return response"
   ]
  },
  {
   "cell_type": "code",
   "execution_count": 52,
   "metadata": {},
   "outputs": [
    {
     "data": {
      "text/plain": [
       "'total deaths'"
      ]
     },
     "execution_count": 52,
     "metadata": {},
     "output_type": "execute_result"
    }
   ],
   "source": [
    "get_category(categories, 'the total death in russia is below 10000.')"
   ]
  },
  {
   "cell_type": "markdown",
   "metadata": {},
   "source": [
    "## Run on entire COVID dataframe"
   ]
  },
  {
   "cell_type": "code",
   "execution_count": 53,
   "metadata": {},
   "outputs": [],
   "source": [
    "total = len(covid_df)-1\n",
    "\n",
    "def get_category_wrapper(row):\n",
    "    print(f'Running row {row.name} / {total}')\n",
    "    return get_category(categories, row['sentence'])"
   ]
  },
  {
   "cell_type": "code",
   "execution_count": 54,
   "metadata": {},
   "outputs": [
    {
     "data": {
      "text/plain": [
       "49"
      ]
     },
     "execution_count": 54,
     "metadata": {},
     "output_type": "execute_result"
    }
   ],
   "source": [
    "total"
   ]
  },
  {
   "cell_type": "code",
   "execution_count": 55,
   "metadata": {},
   "outputs": [
    {
     "name": "stdout",
     "output_type": "stream",
     "text": [
      "Running row 0 / 49\n",
      "Running row 1 / 49\n",
      "Running row 2 / 49\n",
      "Running row 3 / 49\n",
      "Running row 4 / 49\n",
      "Running row 5 / 49\n",
      "Running row 6 / 49\n",
      "Running row 7 / 49\n",
      "Running row 8 / 49\n",
      "Running row 9 / 49\n",
      "Running row 10 / 49\n",
      "Running row 11 / 49\n",
      "Running row 12 / 49\n",
      "Running row 13 / 49\n",
      "Running row 14 / 49\n",
      "Running row 15 / 49\n",
      "Running row 16 / 49\n",
      "Running row 17 / 49\n",
      "Running row 18 / 49\n",
      "Running row 19 / 49\n",
      "Running row 20 / 49\n",
      "Running row 21 / 49\n",
      "Running row 22 / 49\n",
      "Running row 23 / 49\n",
      "Running row 24 / 49\n",
      "Running row 25 / 49\n",
      "Running row 26 / 49\n",
      "Running row 27 / 49\n",
      "Running row 28 / 49\n",
      "Running row 29 / 49\n",
      "Running row 30 / 49\n",
      "Running row 31 / 49\n",
      "Running row 32 / 49\n",
      "Running row 33 / 49\n",
      "Running row 34 / 49\n",
      "Running row 35 / 49\n",
      "Running row 36 / 49\n",
      "Running row 37 / 49\n",
      "Running row 38 / 49\n",
      "Running row 39 / 49\n",
      "Running row 40 / 49\n",
      "Running row 41 / 49\n",
      "Running row 42 / 49\n",
      "Running row 43 / 49\n",
      "Running row 44 / 49\n",
      "Running row 45 / 49\n",
      "Running row 46 / 49\n",
      "Running row 47 / 49\n",
      "Running row 48 / 49\n",
      "Running row 49 / 49\n"
     ]
    }
   ],
   "source": [
    "covid_df['count_type_gpt'] = covid_df.apply(lambda row: get_category_wrapper(row), axis=1)"
   ]
  },
  {
   "cell_type": "code",
   "execution_count": 56,
   "metadata": {},
   "outputs": [],
   "source": [
    "covid_df.to_csv('data/covid_raw_user_sentences_w_ids_after_gpt.csv')"
   ]
  },
  {
   "cell_type": "markdown",
   "metadata": {},
   "source": [
    "## GPT Post Processing"
   ]
  },
  {
   "cell_type": "code",
   "execution_count": 59,
   "metadata": {},
   "outputs": [],
   "source": [
    "covid_df = pd.read_csv('data/covid_raw_user_sentences_w_ids_after_gpt.csv').iloc[:, 1:]"
   ]
  },
  {
   "cell_type": "code",
   "execution_count": 61,
   "metadata": {},
   "outputs": [
    {
     "data": {
      "text/html": [
       "<div>\n",
       "<style scoped>\n",
       "    .dataframe tbody tr th:only-of-type {\n",
       "        vertical-align: middle;\n",
       "    }\n",
       "\n",
       "    .dataframe tbody tr th {\n",
       "        vertical-align: top;\n",
       "    }\n",
       "\n",
       "    .dataframe thead th {\n",
       "        text-align: right;\n",
       "    }\n",
       "</style>\n",
       "<table border=\"1\" class=\"dataframe\">\n",
       "  <thead>\n",
       "    <tr style=\"text-align: right;\">\n",
       "      <th></th>\n",
       "      <th>id</th>\n",
       "      <th>sentence</th>\n",
       "      <th>country_1</th>\n",
       "      <th>country_2</th>\n",
       "      <th>count_type1</th>\n",
       "      <th>count_type2</th>\n",
       "      <th>count_type_gpt</th>\n",
       "    </tr>\n",
       "  </thead>\n",
       "  <tbody>\n",
       "    <tr>\n",
       "      <th>0</th>\n",
       "      <td>0</td>\n",
       "      <td>united states has 3 times the cases of canada</td>\n",
       "      <td>united states</td>\n",
       "      <td>canada</td>\n",
       "      <td>total confirmed</td>\n",
       "      <td>total confirmed</td>\n",
       "      <td>new confirmed</td>\n",
       "    </tr>\n",
       "    <tr>\n",
       "      <th>1</th>\n",
       "      <td>1</td>\n",
       "      <td>the number of cases in france is higher than i...</td>\n",
       "      <td>france</td>\n",
       "      <td>germany</td>\n",
       "      <td>total confirmed</td>\n",
       "      <td>total confirmed</td>\n",
       "      <td>new confirmed</td>\n",
       "    </tr>\n",
       "    <tr>\n",
       "      <th>2</th>\n",
       "      <td>2</td>\n",
       "      <td>the total death in russia is below 10000.</td>\n",
       "      <td>russia</td>\n",
       "      <td>NaN</td>\n",
       "      <td>total deaths</td>\n",
       "      <td>NaN</td>\n",
       "      <td>total deaths</td>\n",
       "    </tr>\n",
       "    <tr>\n",
       "      <th>3</th>\n",
       "      <td>3</td>\n",
       "      <td>france has the most confirmed cases in europe.</td>\n",
       "      <td>france</td>\n",
       "      <td>NaN</td>\n",
       "      <td>total confirmed</td>\n",
       "      <td>NaN</td>\n",
       "      <td>total confirmed</td>\n",
       "    </tr>\n",
       "    <tr>\n",
       "      <th>4</th>\n",
       "      <td>4</td>\n",
       "      <td>china and japan have a total of over 5 million...</td>\n",
       "      <td>china</td>\n",
       "      <td>japan</td>\n",
       "      <td>total confirmed</td>\n",
       "      <td>total confirmed</td>\n",
       "      <td>total confirmed</td>\n",
       "    </tr>\n",
       "  </tbody>\n",
       "</table>\n",
       "</div>"
      ],
      "text/plain": [
       "   id                                           sentence      country_1  \\\n",
       "0   0      united states has 3 times the cases of canada  united states   \n",
       "1   1  the number of cases in france is higher than i...         france   \n",
       "2   2          the total death in russia is below 10000.         russia   \n",
       "3   3    france has the most confirmed cases in europe.          france   \n",
       "4   4  china and japan have a total of over 5 million...          china   \n",
       "\n",
       "  country_2      count_type1      count_type2   count_type_gpt  \n",
       "0    canada  total confirmed  total confirmed    new confirmed  \n",
       "1   germany  total confirmed  total confirmed    new confirmed  \n",
       "2       NaN     total deaths              NaN     total deaths  \n",
       "3       NaN  total confirmed              NaN  total confirmed  \n",
       "4     japan  total confirmed  total confirmed  total confirmed  "
      ]
     },
     "execution_count": 61,
     "metadata": {},
     "output_type": "execute_result"
    }
   ],
   "source": [
    "covid_df.head()"
   ]
  },
  {
   "cell_type": "code",
   "execution_count": null,
   "metadata": {},
   "outputs": [],
   "source": []
  }
 ],
 "metadata": {
  "colab": {
   "authorship_tag": "ABX9TyMAfy7TnX7TiDCJgGP3nTfK",
   "provenance": []
  },
  "kernelspec": {
   "display_name": "Python 3 (ipykernel)",
   "language": "python",
   "name": "python3"
  },
  "language_info": {
   "codemirror_mode": {
    "name": "ipython",
    "version": 3
   },
   "file_extension": ".py",
   "mimetype": "text/x-python",
   "name": "python",
   "nbconvert_exporter": "python",
   "pygments_lexer": "ipython3",
   "version": "3.10.9"
  }
 },
 "nbformat": 4,
 "nbformat_minor": 4
}
