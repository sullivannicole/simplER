{
 "cells": [
  {
   "cell_type": "markdown",
   "metadata": {},
   "source": [
    "# IMDB Reviews"
   ]
  },
  {
   "cell_type": "code",
   "execution_count": 26,
   "metadata": {
    "colab": {
     "base_uri": "https://localhost:8080/"
    },
    "executionInfo": {
     "elapsed": 10930,
     "status": "ok",
     "timestamp": 1677635734641,
     "user": {
      "displayName": "Nicole Sullivan",
      "userId": "18031182080523530747"
     },
     "user_tz": 360
    },
    "id": "Zw3azvbk4ZgU",
    "outputId": "960d4659-bfe2-44ce-ca58-1e543cff962a"
   },
   "outputs": [],
   "source": [
    "import numpy as np\n",
    "import pandas as pd\n",
    "import matplotlib.pyplot as plt\n",
    "import seaborn as sns\n",
    "\n",
    "sns.set_style(\"darkgrid\")"
   ]
  },
  {
   "cell_type": "code",
   "execution_count": 27,
   "metadata": {},
   "outputs": [
    {
     "data": {
      "text/html": [
       "<div>\n",
       "<style scoped>\n",
       "    .dataframe tbody tr th:only-of-type {\n",
       "        vertical-align: middle;\n",
       "    }\n",
       "\n",
       "    .dataframe tbody tr th {\n",
       "        vertical-align: top;\n",
       "    }\n",
       "\n",
       "    .dataframe thead th {\n",
       "        text-align: right;\n",
       "    }\n",
       "</style>\n",
       "<table border=\"1\" class=\"dataframe\">\n",
       "  <thead>\n",
       "    <tr style=\"text-align: right;\">\n",
       "      <th></th>\n",
       "      <th>text</th>\n",
       "    </tr>\n",
       "  </thead>\n",
       "  <tbody>\n",
       "    <tr>\n",
       "      <th>0</th>\n",
       "      <td>the shawshank redemption is without a doubt on...</td>\n",
       "    </tr>\n",
       "    <tr>\n",
       "      <th>1</th>\n",
       "      <td>the shawshank redemption is written and direct...</td>\n",
       "    </tr>\n",
       "    <tr>\n",
       "      <th>2</th>\n",
       "      <td>the godfather is one of the very few films tha...</td>\n",
       "    </tr>\n",
       "    <tr>\n",
       "      <th>3</th>\n",
       "      <td>'the godfather' is the pinnacle of flawless fi...</td>\n",
       "    </tr>\n",
       "    <tr>\n",
       "      <th>4</th>\n",
       "      <td>dark  yes  complex  ambitious. christopher nol...</td>\n",
       "    </tr>\n",
       "  </tbody>\n",
       "</table>\n",
       "</div>"
      ],
      "text/plain": [
       "                                                text\n",
       "0  the shawshank redemption is without a doubt on...\n",
       "1  the shawshank redemption is written and direct...\n",
       "2  the godfather is one of the very few films tha...\n",
       "3  'the godfather' is the pinnacle of flawless fi...\n",
       "4  dark  yes  complex  ambitious. christopher nol..."
      ]
     },
     "execution_count": 27,
     "metadata": {},
     "output_type": "execute_result"
    }
   ],
   "source": [
    "# imdb_reviews = pd.read_csv('https://raw.githubusercontent.com/naserahmadi/TDmatch/main/data/imdb/IMDB_reviews.csv', names = ['text'])\n",
    "# imdb_reviews['row_number'] = imdb_reviews.reset_index().index\n",
    "# imdb_reviews.to_csv('data/imdb_raw_reviews.csv')\n",
    "\n",
    "imdb_raw_reviews = pd.read_csv('data/imdb_raw_reviews.csv')\n",
    "imdb_raw_reviews.head()"
   ]
  },
  {
   "cell_type": "code",
   "execution_count": 34,
   "metadata": {},
   "outputs": [
    {
     "data": {
      "text/plain": [
       "(500, 1)"
      ]
     },
     "execution_count": 34,
     "metadata": {},
     "output_type": "execute_result"
    }
   ],
   "source": [
    "imdb_raw_reviews.shape"
   ]
  },
  {
   "cell_type": "markdown",
   "metadata": {},
   "source": [
    "# ChatGPT Entity Extraction Testing"
   ]
  },
  {
   "cell_type": "code",
   "execution_count": 125,
   "metadata": {},
   "outputs": [],
   "source": [
    "# https://github.com/openai/openai-python\n",
    "import yaml\n",
    "import openai\n",
    "\n",
    "with open(\"openai.yaml\", \"r\") as stream:\n",
    "    d = yaml.safe_load(stream)\n",
    "\n",
    "openai.api_key = d['openai']['api-key']"
   ]
  },
  {
   "cell_type": "code",
   "execution_count": 126,
   "metadata": {},
   "outputs": [
    {
     "name": "stdout",
     "output_type": "stream",
     "text": [
      "Hello! How can I assist you today?\n"
     ]
    }
   ],
   "source": [
    "model = 'gpt-3.5-turbo'\n",
    "prompt = 'Hi'\n",
    "\n",
    "chatgpt = openai.ChatCompletion()\n",
    "\n",
    "completion = chatgpt.create(model=model, messages=[{\"role\": \"user\", \"content\": prompt}])\n",
    "print(completion.choices[0].message.content)"
   ]
  },
  {
   "cell_type": "markdown",
   "metadata": {},
   "source": [
    "### Movie Prompt: \n",
    "\n",
    "#### -> Display only the title of the movie that the text describes. Display only the title of the movie, with no period, and in title case.\n",
    "\n",
    "### Entity Prompt:\n",
    "\n",
    "#### -> 'Display only the entity that the text describes, with no period, and in title case.'"
   ]
  },
  {
   "cell_type": "code",
   "execution_count": 127,
   "metadata": {},
   "outputs": [],
   "source": [
    "def get_entity(entity, text):\n",
    "    \n",
    "    messages = [\n",
    "        {\"role\": \"user\", \"content\": f\"Your job is to extract the {entity} being described by the text provided.\"},\n",
    "        {\"role\": \"user\", \"content\": text},\n",
    "        {\"role\": \"user\", \"content\": f\"Respond ONLY with the {entity}\"},\n",
    "    ]\n",
    "    \n",
    "    return chatgpt.create(model=model, messages=messages).choices[0].message.content"
   ]
  },
  {
   "cell_type": "code",
   "execution_count": 128,
   "metadata": {},
   "outputs": [],
   "source": [
    "test_review = '''i'm not an al pacino fan but this movie has the best performance of al. i think no one in the history of world cinema has played a character better than al pacino in godfather 2. he deserved an oscar.\n",
    "godfather 2 is better than the first part. it is a great sequel  it expands the themes and the world of the first part. robert de niro is stunning as usual. missed marlon brando. best part of this movie is it shows the rise of vito corleone and michael corleone contrasting their times and personalities.\n",
    "you need to watch godfather 2'''"
   ]
  },
  {
   "cell_type": "code",
   "execution_count": 129,
   "metadata": {},
   "outputs": [
    {
     "data": {
      "text/plain": [
       "'The Godfather Part II'"
      ]
     },
     "execution_count": 129,
     "metadata": {},
     "output_type": "execute_result"
    }
   ],
   "source": [
    "entity_to_extract = \"official title of the movie\"\n",
    "get_entity(entity_to_extract, test_review)"
   ]
  },
  {
   "cell_type": "code",
   "execution_count": 130,
   "metadata": {},
   "outputs": [
    {
     "data": {
      "text/plain": [
       "'Al Pacino'"
      ]
     },
     "execution_count": 130,
     "metadata": {},
     "output_type": "execute_result"
    }
   ],
   "source": [
    "entity_to_extract = \"Actor\"\n",
    "get_entity(entity_to_extract, test_review)"
   ]
  },
  {
   "cell_type": "code",
   "execution_count": null,
   "metadata": {},
   "outputs": [],
   "source": []
  }
 ],
 "metadata": {
  "colab": {
   "authorship_tag": "ABX9TyMAfy7TnX7TiDCJgGP3nTfK",
   "provenance": []
  },
  "kernelspec": {
   "display_name": "Python 3 (ipykernel)",
   "language": "python",
   "name": "python3"
  },
  "language_info": {
   "codemirror_mode": {
    "name": "ipython",
    "version": 3
   },
   "file_extension": ".py",
   "mimetype": "text/x-python",
   "name": "python",
   "nbconvert_exporter": "python",
   "pygments_lexer": "ipython3",
   "version": "3.10.9"
  }
 },
 "nbformat": 4,
 "nbformat_minor": 4
}
